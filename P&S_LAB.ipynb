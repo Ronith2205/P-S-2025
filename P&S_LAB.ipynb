{
  "nbformat": 4,
  "nbformat_minor": 0,
  "metadata": {
    "colab": {
      "provenance": [],
      "authorship_tag": "ABX9TyNNIho87PGVwW/pEXHFY8W0",
      "include_colab_link": true
    },
    "kernelspec": {
      "name": "python3",
      "display_name": "Python 3"
    },
    "language_info": {
      "name": "python"
    }
  },
  "cells": [
    {
      "cell_type": "markdown",
      "metadata": {
        "id": "view-in-github",
        "colab_type": "text"
      },
      "source": [
        "<a href=\"https://colab.research.google.com/github/Ronith2205/P-S-2025/blob/main/P%26S_LAB.ipynb\" target=\"_parent\"><img src=\"https://colab.research.google.com/assets/colab-badge.svg\" alt=\"Open In Colab\"/></a>"
      ]
    },
    {
      "cell_type": "code",
      "execution_count": 1,
      "metadata": {
        "colab": {
          "base_uri": "https://localhost:8080/"
        },
        "id": "UbJ8tOH2Y_X7",
        "outputId": "3bfbcdd0-6d30-4ccc-f616-95cac5bdb214"
      },
      "outputs": [
        {
          "output_type": "stream",
          "name": "stdout",
          "text": [
            "Question 1: Ungrouped Data\n",
            "Median (numpy): 45.0\n",
            "Mode (pandas): 45\n",
            "Question 2: Frequency of Scores\n",
            "Median (numpy): 30.0\n",
            "Mode (pandas): 40\n"
          ]
        }
      ],
      "source": [
        "import numpy as np\n",
        "import pandas as pd\n",
        "\n",
        "data = [12, 45, 67, 23, 45, 89, 45, 12, 33, 67, 67, 78, 45, 23, 23, 56, 89, 45, 33, 45]\n",
        "median_ungrouped = np.median(data)\n",
        "mode_ungrouped_pandas = pd.Series(data).mode()[0]\n",
        "print(\"Question 1: Ungrouped Data\")\n",
        "print(f\"Median (numpy): {median_ungrouped}\")\n",
        "print(f\"Mode (pandas): {mode_ungrouped_pandas}\")\n",
        "\n",
        "import numpy as np\n",
        "import pandas as pd\n",
        "\n",
        "scores = [10, 20, 30, 40, 50]\n",
        "frequencies = [5, 8, 12, 15, 7]\n",
        "\n",
        "data_expanded = []\n",
        "for score, freq in zip(scores, frequencies):\n",
        "    data_expanded.extend([score] * freq)\n",
        "median_grouped_single = np.median(data_expanded)\n",
        "mode_grouped_single_pandas = pd.Series(data_expanded).mode()[0]\n",
        "\n",
        "print(\"Question 2: Frequency of Scores\")\n",
        "print(f\"Median (numpy): {median_grouped_single}\")\n",
        "print(f\"Mode (pandas): {mode_grouped_single_pandas}\")\n",
        "\n",
        "\n",
        "\n",
        "\n",
        "\n",
        "\n",
        "\n"
      ]
    }
  ]
}