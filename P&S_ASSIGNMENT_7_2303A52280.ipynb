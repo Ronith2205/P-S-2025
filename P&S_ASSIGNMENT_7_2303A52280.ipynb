{
  "nbformat": 4,
  "nbformat_minor": 0,
  "metadata": {
    "colab": {
      "provenance": [],
      "authorship_tag": "ABX9TyM18ReVdCcqBZ76v3z0REKa",
      "include_colab_link": true
    },
    "kernelspec": {
      "name": "python3",
      "display_name": "Python 3"
    },
    "language_info": {
      "name": "python"
    }
  },
  "cells": [
    {
      "cell_type": "markdown",
      "metadata": {
        "id": "view-in-github",
        "colab_type": "text"
      },
      "source": [
        "<a href=\"https://colab.research.google.com/github/Ronith2205/P-S-2025/blob/main/P%26S_ASSIGNMENT_7_2303A52280.ipynb\" target=\"_parent\"><img src=\"https://colab.research.google.com/assets/colab-badge.svg\" alt=\"Open In Colab\"/></a>"
      ]
    },
    {
      "cell_type": "code",
      "execution_count": 6,
      "metadata": {
        "colab": {
          "base_uri": "https://localhost:8080/"
        },
        "id": "CkYMrhs6rjMB",
        "outputId": "6b4adc04-7e01-4af4-f6b7-3a8602fbe3c5"
      },
      "outputs": [
        {
          "output_type": "stream",
          "name": "stdout",
          "text": [
            "Sample Mean: 27466.666666666668, Sample Standard Deviation: 3748.650550849059\n",
            "Sample Mean: 27466.666666666668, Sample Standard Deviation: 3748.650550849059\n",
            "95% Confidence Interval: (np.float64(25569.58774251922), np.float64(29363.745590814116))\n",
            "Sample Mean: 27466.666666666668, Sample Standard Deviation: 3748.650550849059\n",
            "95% Confidence Interval: (np.float64(25569.58774251922), np.float64(29363.745590814116))\n",
            "Reject Null Hypothesis: True\n"
          ]
        }
      ],
      "source": [
        "import numpy as np\n",
        "\n",
        "data = [25000, 31000, 20000, 28000, 29500, 32000, 21000, 30500, 27000, 28500, 30000, 23000, 31000, 26000, 29500]\n",
        "sample_mean = np.mean(data)\n",
        "sample_std = np.std(data, ddof=1)\n",
        "print(f\"Sample Mean: {sample_mean}, Sample Standard Deviation: {sample_std}\")\n",
        "\n",
        "t_critical = 1.96  # Approximate value for large samples\n",
        "margin_of_error = t_critical * (sample_std / np.sqrt(n))\n",
        "confidence_interval = (sample_mean - margin_of_error, sample_mean + margin_of_error)\n",
        "\n",
        "print(f\"Sample Mean: {sample_mean}, Sample Standard Deviation: {sample_std}\")\n",
        "print(f\"95% Confidence Interval: {confidence_interval}\")\n",
        "\n",
        "claimed_mean = 30000\n",
        "reject_null = confidence_interval[0] > claimed_mean or confidence_interval[1] < claimed_mean\n",
        "\n",
        "print(f\"Sample Mean: {sample_mean}, Sample Standard Deviation: {sample_std}\")\n",
        "print(f\"95% Confidence Interval: {confidence_interval}\")\n",
        "print(\"Reject Null Hypothesis:\", reject_null)\n",
        "\n",
        "\n"
      ]
    }
  ]
}